{
 "cells": [
  {
   "cell_type": "markdown",
   "id": "fc1ca328",
   "metadata": {},
   "source": [
    "# Data Science Tools and Ecosystem"
   ]
  },
  {
   "cell_type": "markdown",
   "id": "eec0bf98",
   "metadata": {},
   "source": [
    "### In this notebook, Data Science Tools and Ecosystem are summarized."
   ]
  },
  {
   "cell_type": "markdown",
   "id": "fbf1e708",
   "metadata": {},
   "source": [
    "**Objectives:**\n",
    "* List popular languages used in datascience\n",
    "* Write arithmetic expresions in Python\n",
    "* List commonly used libraries"
   ]
  },
  {
   "cell_type": "markdown",
   "id": "0e1be032",
   "metadata": {},
   "source": [
    "##### Some of the popular languages that Data Scientists use are:\n",
    "    1. Julia\n",
    "    2. Python\n",
    "    3. R"
   ]
  },
  {
   "cell_type": "markdown",
   "id": "49545154",
   "metadata": {},
   "source": [
    "##### Some of the commonly used libraries used by Data Scientist include:\n",
    "    1. pandas\n",
    "    2. numpy\n",
    "    3. seaborn"
   ]
  },
  {
   "cell_type": "markdown",
   "id": "81a27927",
   "metadata": {},
   "source": [
    "<table>\n",
    "<thead>\n",
    "<tr>\n",
    "<th>Data Science Tools</th>\n",
    "</tr>\n",
    "</thead>\n",
    "<tbody>\n",
    "<tr>\n",
    "<td>Jupyther Notebook</td>\n",
    "</tr>\n",
    "<tbody>\n",
    "<tr>\n",
    "<td>RStudio</td>\n",
    "</tr>\n",
    "</tbody>\n",
    "<tr>\n",
    "<td>GitHub</td>\n",
    "</tr>\n",
    "</table>"
   ]
  },
  {
   "cell_type": "markdown",
   "id": "af2f26a7",
   "metadata": {},
   "source": [
    "### Below are a few examples of evaluating arithmetic expressions in Python"
   ]
  },
  {
   "cell_type": "code",
   "execution_count": 1,
   "id": "f0471729",
   "metadata": {},
   "outputs": [
    {
     "data": {
      "text/plain": [
       "17"
      ]
     },
     "execution_count": 1,
     "metadata": {},
     "output_type": "execute_result"
    }
   ],
   "source": [
    "#This a simple arithmetic expression to mutiply then add integers\n",
    "(3*4)+5"
   ]
  },
  {
   "cell_type": "code",
   "execution_count": 3,
   "id": "0a85656a",
   "metadata": {},
   "outputs": [
    {
     "name": "stdout",
     "output_type": "stream",
     "text": [
      "3.3333333333333335\n"
     ]
    }
   ],
   "source": [
    "#This will convert 200 minutes to hours by diving by 60\n",
    "a = 200/60\n",
    "print(a)"
   ]
  },
  {
   "cell_type": "markdown",
   "id": "e3a524fa",
   "metadata": {},
   "source": [
    "## Author\n",
    "Jorge"
   ]
  },
  {
   "cell_type": "code",
   "execution_count": null,
   "id": "9382ac23",
   "metadata": {},
   "outputs": [],
   "source": []
  }
 ],
 "metadata": {
  "kernelspec": {
   "display_name": "Python 3 (ipykernel)",
   "language": "python",
   "name": "python3"
  },
  "language_info": {
   "codemirror_mode": {
    "name": "ipython",
    "version": 3
   },
   "file_extension": ".py",
   "mimetype": "text/x-python",
   "name": "python",
   "nbconvert_exporter": "python",
   "pygments_lexer": "ipython3",
   "version": "3.11.4"
  }
 },
 "nbformat": 4,
 "nbformat_minor": 5
}
